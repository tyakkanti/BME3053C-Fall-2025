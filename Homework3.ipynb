{
  "nbformat": 4,
  "nbformat_minor": 0,
  "metadata": {
    "colab": {
      "provenance": [],
      "authorship_tag": "ABX9TyMq54LZZQv6mq1F3IEl2DP9",
      "include_colab_link": true
    },
    "kernelspec": {
      "name": "python3",
      "display_name": "Python 3"
    },
    "language_info": {
      "name": "python"
    }
  },
  "cells": [
    {
      "cell_type": "markdown",
      "metadata": {
        "id": "view-in-github",
        "colab_type": "text"
      },
      "source": [
        "<a href=\"https://colab.research.google.com/github/tyakkanti/BME3053C-Fall-2025/blob/main/Homework3.ipynb\" target=\"_parent\"><img src=\"https://colab.research.google.com/assets/colab-badge.svg\" alt=\"Open In Colab\"/></a>"
      ]
    },
    {
      "cell_type": "code",
      "execution_count": 3,
      "metadata": {
        "id": "nNhZeCssbCKL"
      },
      "outputs": [],
      "source": [
        "#Task 1:\n",
        "\n",
        "# Your task is to write a function that counts the number of peaks in the PPG signal using a for loop and range.\n",
        "\n",
        "#Create a function that receives a list as an input argument and uses a for loop with range to iterate through the PPG signal values and identify peaks.\n",
        "#A peak is a signal point where the value is greater than its immediate neighbors. Specifically, for a value at index i to be considered a peak, it must satisfy:\n",
        "#ppg_signal[i] > ppg_signal[i - 1]\n",
        "#ppg_signal[i] > ppg_signal[i + 1]\n",
        "#Your function should count the total number of peaks and print that value.\n",
        "#Call your function with ppg_signal as the input.\n",
        "\n",
        "\n"
      ]
    },
    {
      "cell_type": "code",
      "source": [
        "import math\n",
        "import random\n",
        "\n",
        "ppg_signal = [1000 + 100 * math.sin(0.1 * x) + random.randint(-20, 20) for x in range(100)]"
      ],
      "metadata": {
        "id": "HNWI032gbUH8"
      },
      "execution_count": 12,
      "outputs": []
    },
    {
      "cell_type": "code",
      "source": [
        "def count_peaks(ppg_signal):\n",
        "  count = 0\n",
        "  for i in range(1, len(ppg_signal) - 1):\n",
        "    if ppg_signal[i] > ppg_signal[i - 1] and ppg_signal[i] > ppg_signal[i + 1]:\n",
        "      count += 1\n",
        "  return count\n",
        "peak_count = count_peaks(ppg_signal)\n",
        "print(f\"Number of peaks: {peak_count}\")"
      ],
      "metadata": {
        "colab": {
          "base_uri": "https://localhost:8080/"
        },
        "id": "AE56ChmcbicY",
        "outputId": "22c74d89-bee3-4502-a1f8-d2c26e38c372"
      },
      "execution_count": 13,
      "outputs": [
        {
          "output_type": "stream",
          "name": "stdout",
          "text": [
            "Number of peaks: 31\n"
          ]
        }
      ]
    }
  ]
}