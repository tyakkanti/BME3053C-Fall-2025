{
  "nbformat": 4,
  "nbformat_minor": 0,
  "metadata": {
    "colab": {
      "provenance": [],
      "authorship_tag": "ABX9TyMUL5UFoh8V4CF5cyuNRGZ2",
      "include_colab_link": true
    },
    "kernelspec": {
      "name": "python3",
      "display_name": "Python 3"
    },
    "language_info": {
      "name": "python"
    }
  },
  "cells": [
    {
      "cell_type": "markdown",
      "metadata": {
        "id": "view-in-github",
        "colab_type": "text"
      },
      "source": [
        "<a href=\"https://colab.research.google.com/github/tyakkanti/BME3053C-Fall-2025/blob/main/Homework2.ipynb\" target=\"_parent\"><img src=\"https://colab.research.google.com/assets/colab-badge.svg\" alt=\"Open In Colab\"/></a>"
      ]
    },
    {
      "cell_type": "code",
      "execution_count": 11,
      "metadata": {
        "colab": {
          "base_uri": "https://localhost:8080/"
        },
        "id": "dkGMXzmyx8g0",
        "outputId": "f039ca9b-ade0-4c7f-e6f2-d770752788e7"
      },
      "outputs": [
        {
          "output_type": "stream",
          "name": "stdout",
          "text": [
            "Original BP readings (mmHg): [120, 137, 151, 123, 162, 173, 127, 154]\n",
            "Converted BP readings (kPa): [0.0, 0.32075471698113206, 0.5849056603773585, 0.05660377358490566, 0.7924528301886793, 1.0, 0.1320754716981132, 0.6415094339622641]\n"
          ]
        }
      ],
      "source": [
        "bp_readings = [120, 137, 151, 123, 162, 173, 127, 154]\n",
        "\n",
        "def normalize_sys_bp (bp_readings):\n",
        "  minimum = min(bp_readings)\n",
        "  maximum = max(bp_readings)\n",
        "\n",
        "  normal_values = []\n",
        "\n",
        "  for bp_value in bp_readings:\n",
        "    if bp_value >115 and bp_value <175:\n",
        "      normal_value = (bp_value - (minimum)) / ((maximum)-(minimum))\n",
        "      normal_values.append(normal_value)\n",
        "    else:\n",
        "      print(f\"Error: Value {bp_value} is outside reasonable range (115-175mmmHg).\")\n",
        "\n",
        "  return normal_values\n",
        "\n",
        "\n",
        "print(\"Original BP readings (mmHg):\", bp_readings)\n",
        "\n",
        "\n",
        "normal_values = normalize_sys_bp(bp_readings)\n",
        "print(\"Converted BP readings (kPa):\", normal_values)"
      ]
    }
  ]
}